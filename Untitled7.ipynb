{
 "cells": [
  {
   "cell_type": "code",
   "execution_count": 1,
   "id": "f0ec6f5c",
   "metadata": {},
   "outputs": [],
   "source": [
    "import requests\n",
    "import  sqlite3\n"
   ]
  },
  {
   "cell_type": "code",
   "execution_count": 2,
   "id": "e83fe0e3",
   "metadata": {},
   "outputs": [],
   "source": [
    "url = \"https://youtube-mp3-download1.p.rapidapi.com/dl\"\n",
    "\n",
    "querystring = {\"id\":\"UxxajLWwzqY\"}"
   ]
  },
  {
   "cell_type": "code",
   "execution_count": 3,
   "id": "6e4864a4",
   "metadata": {},
   "outputs": [],
   "source": [
    "headers = {\n",
    "\t\"X-RapidAPI-Key\": \"99d68f4cc4msh7ff2b83eecc1001p13f6d0jsn662dd69aa5d1\",\n",
    "\t\"X-RapidAPI-Host\": \"youtube-mp3-download1.p.rapidapi.com\"\n",
    "}\n"
   ]
  },
  {
   "cell_type": "code",
   "execution_count": 4,
   "id": "bf8e772c",
   "metadata": {},
   "outputs": [],
   "source": [
    "response = requests.request(\"GET\", url, headers=headers, params=querystring)\n",
    "data=response.json()"
   ]
  },
  {
   "cell_type": "code",
   "execution_count": 5,
   "id": "70180d8b",
   "metadata": {},
   "outputs": [
    {
     "name": "stdout",
     "output_type": "stream",
     "text": [
      "{'link': 'https://one.123berlin.xyz/mp3.php?id=GkFeNGqoW2B1iWVBfqABTOHbvkPQptJZV7sa', 'title': 'Icona Pop - I Love It (feat. Charli XCX) [OFFICIAL VIDEO]', 'progress': 0, 'duration': 180.03591959124, 'status': 'ok', 'msg': 'success'}\n"
     ]
    }
   ],
   "source": [
    "print(data)"
   ]
  },
  {
   "cell_type": "code",
   "execution_count": 6,
   "id": "50a5e30c",
   "metadata": {},
   "outputs": [],
   "source": [
    "# Connect to the SQLite database\n",
    "conn = sqlite3.connect(\"youtube1.db\")"
   ]
  },
  {
   "cell_type": "code",
   "execution_count": 7,
   "id": "3c0c6c9b",
   "metadata": {},
   "outputs": [
    {
     "data": {
      "text/plain": [
       "<sqlite3.Cursor at 0x2157baef3c0>"
      ]
     },
     "execution_count": 7,
     "metadata": {},
     "output_type": "execute_result"
    }
   ],
   "source": [
    "# Create a table to store the weather data\n",
    "conn.execute(\"CREATE TABLE IF NOT EXISTS youtube1 (id INTEGER PRIMARY KEY AUTOINCREMENT, link TEXT, title text, progress int, duration numeric, status text, msg text)\")"
   ]
  },
  {
   "cell_type": "code",
   "execution_count": 8,
   "id": "91970f35",
   "metadata": {},
   "outputs": [
    {
     "data": {
      "text/plain": [
       "<sqlite3.Cursor at 0x2157baee3c0>"
      ]
     },
     "execution_count": 8,
     "metadata": {},
     "output_type": "execute_result"
    }
   ],
   "source": [
    "conn.execute(\"INSERT INTO youtube1 (link, title, progress, duration, status, msg) VALUES (?, ?, ?, ?, ?, ?)\", (data[\"link\"], data[\"title\"], data[\"progress\"], data[\"duration\"], data[\"status\"], data[\"msg\"]))\n",
    "\n"
   ]
  },
  {
   "cell_type": "code",
   "execution_count": 9,
   "id": "8a7c052f",
   "metadata": {},
   "outputs": [],
   "source": [
    "# Commit the changes to the database\n",
    "conn.commit()"
   ]
  },
  {
   "cell_type": "code",
   "execution_count": 10,
   "id": "09eff216",
   "metadata": {},
   "outputs": [],
   "source": [
    "cursor = conn.execute(\"SELECT * FROM youtube1\")\n",
    "rows = cursor.fetchall()"
   ]
  },
  {
   "cell_type": "code",
   "execution_count": 11,
   "id": "590a0ac6",
   "metadata": {},
   "outputs": [
    {
     "name": "stdout",
     "output_type": "stream",
     "text": [
      "(1, 'https://one.123berlin.xyz/mp3.php?id=GkFeNGqoW2B1iWVBfqABTOHbvkPQptJZV7sa', 'Icona Pop - I Love It (feat. Charli XCX) [OFFICIAL VIDEO]', 0, 180.03591959124, 'ok', 'success')\n"
     ]
    }
   ],
   "source": [
    "# Print the rows to the console\n",
    "for row in rows:\n",
    "    print(row)"
   ]
  },
  {
   "cell_type": "code",
   "execution_count": 12,
   "id": "98ecc59d",
   "metadata": {},
   "outputs": [],
   "source": [
    "# # Close the database connection\n",
    "conn.close()"
   ]
  },
  {
   "cell_type": "code",
   "execution_count": null,
   "id": "1f9a1d5c",
   "metadata": {},
   "outputs": [],
   "source": []
  }
 ],
 "metadata": {
  "kernelspec": {
   "display_name": "Python 3 (ipykernel)",
   "language": "python",
   "name": "python3"
  },
  "language_info": {
   "codemirror_mode": {
    "name": "ipython",
    "version": 3
   },
   "file_extension": ".py",
   "mimetype": "text/x-python",
   "name": "python",
   "nbconvert_exporter": "python",
   "pygments_lexer": "ipython3",
   "version": "3.11.2"
  }
 },
 "nbformat": 4,
 "nbformat_minor": 5
}
